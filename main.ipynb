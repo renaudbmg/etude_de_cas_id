{
 "cells": [
  {
   "cell_type": "markdown",
   "metadata": {},
   "source": [
    "# Étude de cas ID"
   ]
  },
  {
   "cell_type": "markdown",
   "metadata": {},
   "source": [
    "### Cas sans contrainte budgétaire"
   ]
  },
  {
   "cell_type": "code",
   "execution_count": 14,
   "metadata": {},
   "outputs": [
    {
     "name": "stdout",
     "output_type": "stream",
     "text": [
      "defaultdict(<class 'list'>, {})\n",
      "Durée totale : 4.5 mois\n",
      "Lancement des tâches : {'A': 0, 'B': 0.5, 'C': 0.5, 'D': 1.0, 'E': 2.0, 'F': 3.0, 'G': 3.0}\n"
     ]
    }
   ],
   "source": [
    "from collections import defaultdict, deque\n",
    "\n",
    "# Représentation des tâches\n",
    "tasks = {\n",
    "    'A': {'duration': 0.5, 'cost': 50, 'predecessors': []},\n",
    "    'B': {'duration': 0.5, 'cost': 50, 'predecessors': ['A']},\n",
    "    'C': {'duration': 1.5, 'cost': 110, 'predecessors': ['A']},\n",
    "    'D': {'duration': 1, 'cost': 100, 'predecessors': ['B']},\n",
    "    'E': {'duration': 1, 'cost': 50, 'predecessors': ['B', 'C']},\n",
    "    'F': {'duration': 1, 'cost': 100, 'predecessors': ['D', 'E']},\n",
    "    'G': {'duration': 1.5, 'cost': 100, 'predecessors': ['D', 'E']}\n",
    "}\n",
    "\n",
    "# Graphe\n",
    "graph = defaultdict(list)\n",
    "in_degree = {task: 0 for task in tasks}\n",
    "durations = {task: info['duration'] for task, info in tasks.items()}\n",
    "\n",
    "# Initialisation des degrés du graphe\n",
    "\n",
    "for task, info in tasks.items():\n",
    "    for predecessor in info['predecessors']:\n",
    "        graph[predecessor].append(task)\n",
    "        in_degree[task] += 1\n",
    "\n",
    "# Fonction principale\n",
    "def research_order(graph, in_degree, durations):\n",
    "    zero_in_degree = deque([node for node in in_degree if in_degree[node] == 0])\n",
    "    levels = []\n",
    "    earliest_start = {task: 0 for task in tasks}\n",
    "    total_duration = 0\n",
    "\n",
    "    while zero_in_degree:\n",
    "        current_level = list(zero_in_degree)\n",
    "        levels.append(current_level)\n",
    "        \n",
    "        for _ in range(len(zero_in_degree)):\n",
    "            current = zero_in_degree.popleft()\n",
    "            \n",
    "            for neighbor in graph[current]:\n",
    "                in_degree[neighbor] -= 1\n",
    "                earliest_start[neighbor] = earliest_start[current] + durations[current]\n",
    "                if in_degree[neighbor] == 0:\n",
    "                    zero_in_degree.append(neighbor)\n",
    "        \n",
    "        \n",
    "    total_duration = max(earliest_start[task] + durations[task] for task in tasks)\n",
    "    return total_duration, earliest_start\n",
    "\n",
    "# Appel des fonctions\n",
    "total_duration, order = research_order(graph, in_degree, durations)\n",
    "print(\"Durée totale :\", total_duration,\"mois\")\n",
    "print(\"Lancement des tâches :\", order)\n"
   ]
  },
  {
   "cell_type": "markdown",
   "metadata": {},
   "source": [
    "### Cas avec contrainte budgétaire\n",
    "J'ai pour le moment juste rajouté les lignes 3 et 4 par rapport à la première fonction"
   ]
  },
  {
   "cell_type": "code",
   "execution_count": 15,
   "metadata": {},
   "outputs": [
    {
     "name": "stdout",
     "output_type": "stream",
     "text": [
      "Ordre des tâches : [['A'], ['B', 'C'], ['D', 'E'], ['F', 'G']]\n",
      "Durée totale : 4.5 mois\n"
     ]
    }
   ],
   "source": [
    "from collections import defaultdict, deque\n",
    "\n",
    "monthly_payment = 100\n",
    "current_money = monthly_payment\n",
    "\n",
    "# Représentation des tâches\n",
    "tasks = {\n",
    "    'A': {'duration': 0.5, 'cost': 50, 'predecessors': []},\n",
    "    'B': {'duration': 0.5, 'cost': 50, 'predecessors': ['A']},\n",
    "    'C': {'duration': 1.5, 'cost': 110, 'predecessors': ['A']},\n",
    "    'D': {'duration': 1, 'cost': 100, 'predecessors': ['B']},\n",
    "    'E': {'duration': 1, 'cost': 50, 'predecessors': ['B', 'C']},\n",
    "    'F': {'duration': 1, 'cost': 100, 'predecessors': ['D', 'E']},\n",
    "    'G': {'duration': 1.5, 'cost': 100, 'predecessors': ['D', 'E']}\n",
    "}\n",
    "\n",
    "# Graph\n",
    "graph = defaultdict(list)\n",
    "in_degree = {task: 0 for task in tasks}\n",
    "durations = {task: info['duration'] for task, info in tasks.items()}\n",
    "\n",
    "# Initialisation des degrés du graphe\n",
    "\n",
    "for task, info in tasks.items():\n",
    "    for predecessor in info['predecessors']:\n",
    "        graph[predecessor].append(task)\n",
    "        in_degree[task] += 1\n",
    "\n",
    "# Fonction principale\n",
    "def research_order(graph, in_degree, durations):\n",
    "    zero_in_degree = deque([node for node in in_degree if in_degree[node] == 0])\n",
    "    levels = []\n",
    "    earliest_start = {task: 0 for task in tasks}\n",
    "    total_duration = 0\n",
    "\n",
    "    while zero_in_degree:\n",
    "        current_level = list(zero_in_degree)\n",
    "        levels.append(current_level)\n",
    "        \n",
    "        for _ in range(len(zero_in_degree)):\n",
    "            current = zero_in_degree.popleft()\n",
    "            \n",
    "            for neighbor in graph[current]:\n",
    "                in_degree[neighbor] -= 1\n",
    "                earliest_start[neighbor] = earliest_start[current] + durations[current]\n",
    "                if in_degree[neighbor] == 0:\n",
    "                    zero_in_degree.append(neighbor)\n",
    "        \n",
    "    if sum(in_degree.values()) == 0:\n",
    "        total_duration = max(earliest_start[task] + durations[task] for task in tasks)\n",
    "        return levels, total_duration\n",
    "    else:\n",
    "        raise Exception(\"Graph has at least one cycle\")\n",
    "\n",
    "# Obtenir l'ordre des tâches et la durée totale\n",
    "order, total_duration = research_order(graph, in_degree, durations)\n",
    "print(\"Ordre des tâches :\", order)\n",
    "print(\"Durée totale :\", total_duration, \"mois\")"
   ]
  }
 ],
 "metadata": {
  "kernelspec": {
   "display_name": "Python 3",
   "language": "python",
   "name": "python3"
  },
  "language_info": {
   "codemirror_mode": {
    "name": "ipython",
    "version": 3
   },
   "file_extension": ".py",
   "mimetype": "text/x-python",
   "name": "python",
   "nbconvert_exporter": "python",
   "pygments_lexer": "ipython3",
   "version": "3.12.1"
  }
 },
 "nbformat": 4,
 "nbformat_minor": 2
}
