{
 "cells": [
  {
   "cell_type": "markdown",
   "metadata": {},
   "source": [
    "# Étude de cas ID"
   ]
  },
  {
   "cell_type": "markdown",
   "metadata": {},
   "source": [
    "### Cas sans contrainte budgétaire"
   ]
  },
  {
   "cell_type": "code",
   "execution_count": 14,
   "metadata": {},
   "outputs": [
    {
     "name": "stdout",
     "output_type": "stream",
     "text": [
      "defaultdict(<class 'list'>, {})\n",
      "Durée totale : 4.5 mois\n",
      "Lancement des tâches : {'A': 0, 'B': 0.5, 'C': 0.5, 'D': 1.0, 'E': 2.0, 'F': 3.0, 'G': 3.0}\n"
     ]
    }
   ],
   "source": [
    "from collections import defaultdict, deque\n",
    "\n",
    "# Représentation des tâches\n",
    "tasks = {\n",
    "    'A': {'duration': 0.5, 'cost': 50, 'predecessors': []},\n",
    "    'B': {'duration': 0.5, 'cost': 50, 'predecessors': ['A']},\n",
    "    'C': {'duration': 1.5, 'cost': 110, 'predecessors': ['A']},\n",
    "    'D': {'duration': 1, 'cost': 100, 'predecessors': ['B']},\n",
    "    'E': {'duration': 1, 'cost': 50, 'predecessors': ['B', 'C']},\n",
    "    'F': {'duration': 1, 'cost': 100, 'predecessors': ['D', 'E']},\n",
    "    'G': {'duration': 1.5, 'cost': 100, 'predecessors': ['D', 'E']}\n",
    "}\n",
    "\n",
    "# Graphe\n",
    "graph = defaultdict(list)\n",
    "in_degree = {task: 0 for task in tasks}\n",
    "durations = {task: info['duration'] for task, info in tasks.items()}\n",
    "\n",
    "# Initialisation des degrés du graphe\n",
    "\n",
    "for task, info in tasks.items():\n",
    "    for predecessor in info['predecessors']:\n",
    "        graph[predecessor].append(task)\n",
    "        in_degree[task] += 1\n",
    "\n",
    "# Fonction principale\n",
    "def research_order(graph, in_degree, durations):\n",
    "    zero_in_degree = deque([node for node in in_degree if in_degree[node] == 0])\n",
    "    levels = []\n",
    "    earliest_start = {task: 0 for task in tasks}\n",
    "    total_duration = 0\n",
    "\n",
    "    while zero_in_degree:\n",
    "        current_level = list(zero_in_degree)\n",
    "        levels.append(current_level)\n",
    "        \n",
    "        for _ in range(len(zero_in_degree)):\n",
    "            current = zero_in_degree.popleft()\n",
    "            \n",
    "            for neighbor in graph[current]:\n",
    "                in_degree[neighbor] -= 1\n",
    "                earliest_start[neighbor] = earliest_start[current] + durations[current]\n",
    "                if in_degree[neighbor] == 0:\n",
    "                    zero_in_degree.append(neighbor)\n",
    "        \n",
    "        \n",
    "    total_duration = max(earliest_start[task] + durations[task] for task in tasks)\n",
    "    return total_duration, earliest_start\n",
    "\n",
    "# Appel des fonctions\n",
    "total_duration, order = research_order(graph, in_degree, durations)\n",
    "print(\"Durée totale :\", total_duration,\"mois\")\n",
    "print(\"Lancement des tâches :\", order)\n"
   ]
  },
  {
   "cell_type": "markdown",
   "metadata": {},
   "source": [
    "### Cas avec contrainte budgétaire\n",
    "J'ai pour le moment juste rajouté les lignes 3 et 4 par rapport à la première fonction"
   ]
  },
  {
   "cell_type": "code",
   "execution_count": 10,
   "metadata": {},
   "outputs": [
    {
     "name": "stdout",
     "output_type": "stream",
     "text": [
      "Ordre des tâches : [['A'], ['B', 'C'], ['D', 'E'], ['F', 'G']]\n",
      "Durée totale : 4.5 mois\n"
     ]
    }
   ],
   "source": [
    "from collections import defaultdict, deque\n",
    "\n",
    "monthly_payment = 100\n",
    "current_money = monthly_payment\n",
    "\n",
    "# Représentation des tâches\n",
    "tasks = {\n",
    "    'A': {'duration': 0.5, 'cost': 50, 'predecessors': []},\n",
    "    'B': {'duration': 0.5, 'cost': 50, 'predecessors': ['A']},\n",
    "    'C': {'duration': 1.5, 'cost': 110, 'predecessors': ['A']},\n",
    "    'D': {'duration': 1, 'cost': 100, 'predecessors': ['B']},\n",
    "    'E': {'duration': 1, 'cost': 50, 'predecessors': ['B', 'C']},\n",
    "    'F': {'duration': 1, 'cost': 100, 'predecessors': ['D', 'E']},\n",
    "    'G': {'duration': 1.5, 'cost': 100, 'predecessors': ['D', 'E']}\n",
    "}\n",
    "\n",
    "# Graph\n",
    "graph = defaultdict(list)\n",
    "in_degree = {task: 0 for task in tasks}\n",
    "durations = {task: info['duration'] for task, info in tasks.items()}\n",
    "\n",
    "# Initialisation des degrés du graphe\n",
    "\n",
    "for task, info in tasks.items():\n",
    "    for predecessor in info['predecessors']:\n",
    "        graph[predecessor].append(task)\n",
    "        in_degree[task] += 1\n",
    "\n",
    "# Fonction principale\n",
    "def research_order(graph, in_degree, durations):\n",
    "    zero_in_degree = deque([node for node in in_degree if in_degree[node] == 0])\n",
    "    levels = []\n",
    "    earliest_start = {task: 0 for task in tasks}\n",
    "    total_duration = 0\n",
    "\n",
    "    while zero_in_degree:\n",
    "        current_level = list(zero_in_degree)\n",
    "        levels.append(current_level)\n",
    "        \n",
    "        for _ in range(len(zero_in_degree)):\n",
    "            current = zero_in_degree.popleft()\n",
    "            \n",
    "            for neighbor in graph[current]:\n",
    "                in_degree[neighbor] -= 1\n",
    "                earliest_start[neighbor] = earliest_start[current] + durations[current]\n",
    "                if in_degree[neighbor] == 0:\n",
    "                    zero_in_degree.append(neighbor)\n",
    "        \n",
    "    if sum(in_degree.values()) == 0:\n",
    "        total_duration = max(earliest_start[task] + durations[task] for task in tasks)\n",
    "        return levels, total_duration\n",
    "    else:\n",
    "        raise Exception(\"Graph has at least one cycle\")\n",
    "\n",
    "# Obtenir l'ordre des tâches et la durée totale\n",
    "order, total_duration = research_order(graph, in_degree, durations)\n",
    "print(\"Ordre des tâches :\", order)\n",
    "print(\"Durée totale :\", total_duration, \"mois\")"
   ]
  },
  {
   "cell_type": "code",
   "execution_count": 11,
   "metadata": {},
   "outputs": [
    {
     "name": "stdout",
     "output_type": "stream",
     "text": [
      "[['A']]\n"
     ]
    },
    {
     "ename": "TypeError",
     "evalue": "unhashable type: 'list'",
     "output_type": "error",
     "traceback": [
      "\u001b[0;31m---------------------------------------------------------------------------\u001b[0m",
      "\u001b[0;31mTypeError\u001b[0m                                 Traceback (most recent call last)",
      "Cell \u001b[0;32mIn[11], line 58\u001b[0m\n\u001b[1;32m     55\u001b[0m         \u001b[38;5;28;01mraise\u001b[39;00m \u001b[38;5;167;01mException\u001b[39;00m(\u001b[38;5;124m\"\u001b[39m\u001b[38;5;124mGraph has at least one cycle\u001b[39m\u001b[38;5;124m\"\u001b[39m)\n\u001b[1;32m     57\u001b[0m \u001b[38;5;66;03m# Obtenir l'ordre des tâches et la durée totale\u001b[39;00m\n\u001b[0;32m---> 58\u001b[0m order, total_duration \u001b[38;5;241m=\u001b[39m \u001b[43mresearch_order\u001b[49m\u001b[43m(\u001b[49m\u001b[43mgraph\u001b[49m\u001b[43m,\u001b[49m\u001b[43m \u001b[49m\u001b[43min_degree\u001b[49m\u001b[43m,\u001b[49m\u001b[43m \u001b[49m\u001b[43mdurations\u001b[49m\u001b[43m)\u001b[49m\n\u001b[1;32m     59\u001b[0m \u001b[38;5;28mprint\u001b[39m(\u001b[38;5;124m\"\u001b[39m\u001b[38;5;124mOrdre des tâches :\u001b[39m\u001b[38;5;124m\"\u001b[39m, order)\n\u001b[1;32m     60\u001b[0m \u001b[38;5;28mprint\u001b[39m(\u001b[38;5;124m\"\u001b[39m\u001b[38;5;124mDurée totale :\u001b[39m\u001b[38;5;124m\"\u001b[39m, total_duration, \u001b[38;5;124m\"\u001b[39m\u001b[38;5;124mmois\u001b[39m\u001b[38;5;124m\"\u001b[39m)\n",
      "Cell \u001b[0;32mIn[11], line 44\u001b[0m, in \u001b[0;36mresearch_order\u001b[0;34m(graph, in_degree, durations)\u001b[0m\n\u001b[1;32m     41\u001b[0m current \u001b[38;5;241m=\u001b[39m zero_in_degree\u001b[38;5;241m.\u001b[39mpopleft()\n\u001b[1;32m     43\u001b[0m \u001b[38;5;28;01mfor\u001b[39;00m neighbor \u001b[38;5;129;01min\u001b[39;00m graph[current]:\n\u001b[0;32m---> 44\u001b[0m     current_money \u001b[38;5;241m=\u001b[39m monthly_payment \u001b[38;5;241m+\u001b[39m \u001b[38;5;28mmax\u001b[39m(earliest_start[task] \u001b[38;5;241m+\u001b[39m durations[task] \u001b[38;5;28;01mfor\u001b[39;00m task \u001b[38;5;129;01min\u001b[39;00m tasks) \u001b[38;5;241m*\u001b[39m monthly_payment \u001b[38;5;241m-\u001b[39m \u001b[38;5;28;43msum\u001b[39;49m\u001b[43m(\u001b[49m\u001b[43mtasks\u001b[49m\u001b[43m[\u001b[49m\u001b[43mlevel\u001b[49m\u001b[43m]\u001b[49m\u001b[43m[\u001b[49m\u001b[38;5;124;43m'\u001b[39;49m\u001b[38;5;124;43mcost\u001b[39;49m\u001b[38;5;124;43m'\u001b[39;49m\u001b[43m]\u001b[49m\u001b[43m \u001b[49m\u001b[38;5;28;43;01mfor\u001b[39;49;00m\u001b[43m \u001b[49m\u001b[43mlevel\u001b[49m\u001b[43m \u001b[49m\u001b[38;5;129;43;01min\u001b[39;49;00m\u001b[43m \u001b[49m\u001b[43mlevels\u001b[49m\u001b[43m)\u001b[49m\n\u001b[1;32m     45\u001b[0m     \u001b[38;5;28;01mif\u001b[39;00m current_money \u001b[38;5;241m-\u001b[39m tasks[neighbor][\u001b[38;5;124m'\u001b[39m\u001b[38;5;124mcost\u001b[39m\u001b[38;5;124m'\u001b[39m] \u001b[38;5;241m>\u001b[39m \u001b[38;5;241m0\u001b[39m:\n\u001b[1;32m     46\u001b[0m         in_degree[neighbor] \u001b[38;5;241m-\u001b[39m\u001b[38;5;241m=\u001b[39m \u001b[38;5;241m1\u001b[39m\n",
      "Cell \u001b[0;32mIn[11], line 44\u001b[0m, in \u001b[0;36m<genexpr>\u001b[0;34m(.0)\u001b[0m\n\u001b[1;32m     41\u001b[0m current \u001b[38;5;241m=\u001b[39m zero_in_degree\u001b[38;5;241m.\u001b[39mpopleft()\n\u001b[1;32m     43\u001b[0m \u001b[38;5;28;01mfor\u001b[39;00m neighbor \u001b[38;5;129;01min\u001b[39;00m graph[current]:\n\u001b[0;32m---> 44\u001b[0m     current_money \u001b[38;5;241m=\u001b[39m monthly_payment \u001b[38;5;241m+\u001b[39m \u001b[38;5;28mmax\u001b[39m(earliest_start[task] \u001b[38;5;241m+\u001b[39m durations[task] \u001b[38;5;28;01mfor\u001b[39;00m task \u001b[38;5;129;01min\u001b[39;00m tasks) \u001b[38;5;241m*\u001b[39m monthly_payment \u001b[38;5;241m-\u001b[39m \u001b[38;5;28msum\u001b[39m(\u001b[43mtasks\u001b[49m\u001b[43m[\u001b[49m\u001b[43mlevel\u001b[49m\u001b[43m]\u001b[49m[\u001b[38;5;124m'\u001b[39m\u001b[38;5;124mcost\u001b[39m\u001b[38;5;124m'\u001b[39m] \u001b[38;5;28;01mfor\u001b[39;00m level \u001b[38;5;129;01min\u001b[39;00m levels)\n\u001b[1;32m     45\u001b[0m     \u001b[38;5;28;01mif\u001b[39;00m current_money \u001b[38;5;241m-\u001b[39m tasks[neighbor][\u001b[38;5;124m'\u001b[39m\u001b[38;5;124mcost\u001b[39m\u001b[38;5;124m'\u001b[39m] \u001b[38;5;241m>\u001b[39m \u001b[38;5;241m0\u001b[39m:\n\u001b[1;32m     46\u001b[0m         in_degree[neighbor] \u001b[38;5;241m-\u001b[39m\u001b[38;5;241m=\u001b[39m \u001b[38;5;241m1\u001b[39m\n",
      "\u001b[0;31mTypeError\u001b[0m: unhashable type: 'list'"
     ]
    }
   ],
   "source": [
    "from collections import defaultdict, deque\n",
    "\n",
    "monthly_payment = 100\n",
    "current_money = monthly_payment\n",
    "\n",
    "# Représentation des tâches\n",
    "tasks = {\n",
    "    'A': {'duration': 0.5, 'cost': 50, 'predecessors': []},\n",
    "    'B': {'duration': 0.5, 'cost': 50, 'predecessors': ['A']},\n",
    "    'C': {'duration': 1.5, 'cost': 110, 'predecessors': ['A']},\n",
    "    'D': {'duration': 1, 'cost': 100, 'predecessors': ['B']},\n",
    "    'E': {'duration': 1, 'cost': 50, 'predecessors': ['B', 'C']},\n",
    "    'F': {'duration': 1, 'cost': 100, 'predecessors': ['D', 'E']},\n",
    "    'G': {'duration': 1.5, 'cost': 100, 'predecessors': ['D', 'E']}\n",
    "}\n",
    "\n",
    "# Graph\n",
    "graph = defaultdict(list)\n",
    "in_degree = {task: 0 for task in tasks}\n",
    "durations = {task: info['duration'] for task, info in tasks.items()}\n",
    "\n",
    "# Initialisation des degrés du graphe\n",
    "\n",
    "for task, info in tasks.items():\n",
    "    for predecessor in info['predecessors']:\n",
    "        graph[predecessor].append(task)\n",
    "        in_degree[task] += 1\n",
    "\n",
    "# Fonction principale\n",
    "def research_order(graph, in_degree, durations):\n",
    "    zero_in_degree = deque([node for node in in_degree if in_degree[node] == 0])\n",
    "    levels = []\n",
    "    earliest_start = {task: 0 for task in tasks}\n",
    "    total_duration = 0\n",
    "\n",
    "    while zero_in_degree:\n",
    "        current_level = list(zero_in_degree)\n",
    "        levels.append(current_level)\n",
    "        print(levels)\n",
    "        for _ in range(len(zero_in_degree)):\n",
    "            current = zero_in_degree.popleft()\n",
    "            \n",
    "            for neighbor in graph[current]:\n",
    "                current_money = monthly_payment + max(earliest_start[task] + durations[task] for task in tasks) * monthly_payment - sum(tasks[level]['cost'] for level in levels)\n",
    "                if current_money - tasks[neighbor]['cost'] > 0:\n",
    "                    in_degree[neighbor] -= 1\n",
    "                    earliest_start[neighbor] = earliest_start[current] + durations[current]\n",
    "                    if in_degree[neighbor] == 0:\n",
    "                        zero_in_degree.append(neighbor)\n",
    "        \n",
    "    if sum(in_degree.values()) == 0:\n",
    "        total_duration = max(earliest_start[task] + durations[task] for task in tasks)\n",
    "        return levels, total_duration\n",
    "    else:\n",
    "        raise Exception(\"Graph has at least one cycle\")\n",
    "\n",
    "# Obtenir l'ordre des tâches et la durée totale\n",
    "order, total_duration = research_order(graph, in_degree, durations)\n",
    "print(\"Ordre des tâches :\", order)\n",
    "print(\"Durée totale :\", total_duration, \"mois\")"
   ]
  }
 ],
 "metadata": {
  "kernelspec": {
   "display_name": "Python 3",
   "language": "python",
   "name": "python3"
  },
  "language_info": {
   "codemirror_mode": {
    "name": "ipython",
    "version": 3
   },
   "file_extension": ".py",
   "mimetype": "text/x-python",
   "name": "python",
   "nbconvert_exporter": "python",
   "pygments_lexer": "ipython3",
   "version": "3.12.1"
  }
 },
 "nbformat": 4,
 "nbformat_minor": 2
}
